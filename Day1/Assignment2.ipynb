{
 "cells": [
  {
   "cell_type": "code",
   "execution_count": 13,
   "metadata": {},
   "outputs": [
    {
     "name": "stdout",
     "output_type": "stream",
     "text": [
      "Enter the String 1abcd\n",
      "Enter the String 2dbca\n",
      "The String are anagram\n"
     ]
    }
   ],
   "source": [
    "def anagram(str1,str2):\n",
    "  if ((sorted(string1)==sorted(string2))):\n",
    "      print(\"The String are anagram\")\n",
    "  else:\n",
    "      print(\"String are not anagram\")\n",
    "\n",
    "string1 = input(\"Enter the String 1\")\n",
    "string2 = input(\"Enter the String 2\")\n",
    "\n",
    "anagram(string1,string2)"
   ]
  },
  {
   "cell_type": "code",
   "execution_count": null,
   "metadata": {},
   "outputs": [],
   "source": []
  },
  {
   "cell_type": "code",
   "execution_count": null,
   "metadata": {},
   "outputs": [],
   "source": []
  }
 ],
 "metadata": {
  "kernelspec": {
   "display_name": "Python 3",
   "language": "python",
   "name": "python3"
  },
  "language_info": {
   "codemirror_mode": {
    "name": "ipython",
    "version": 3
   },
   "file_extension": ".py",
   "mimetype": "text/x-python",
   "name": "python",
   "nbconvert_exporter": "python",
   "pygments_lexer": "ipython3",
   "version": "3.8.1"
  }
 },
 "nbformat": 4,
 "nbformat_minor": 4
}
